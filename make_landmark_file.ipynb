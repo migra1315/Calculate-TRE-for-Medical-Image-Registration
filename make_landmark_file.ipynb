{
 "cells": [
  {
   "cell_type": "markdown",
   "metadata": {},
   "source": [
    "## 下载pts文件\n",
    "ubuntu终端中\n",
    "```\n",
    "mkdir ~/Storage/popi_landmarks\n",
    "wget https://www.creatis.insa-lyon.fr/~srit/POPI/MedPhys11/bl/pts/00.pts\n",
    "……\n",
    "```\n",
    "##　安装SimpleITK\n",
    "ubuntu终端中\n",
    "```\n",
    "pip install SimpleITK\n",
    "```\n",
    "## 要求\n",
    "popi中共有6个case，将其10个时相的对应点转换成影像坐标系，保存在6*1个\\*.pt文件中\n",
    "在生成之后\n",
    "以\n",
    "|—— POPI\n",
    "|   |—— case1\n",
    "|       |—— 00.nii\n",
    "|       |—— 01.nii\n",
    "|       |—— ...\n",
    "|       |—— 09.nii\n",
    "|       |—— case1.pt\n",
    "|   |—— case2\n",
    "|       |—— 00.nii\n",
    "|       |—— 01.nii\n",
    "|       |—— ...\n",
    "|       |—— 09.nii\n",
    "|       |—— case2.pt\n",
    "的结构保存在服务器/data/JY/POPI中"
   ]
  },
  {
   "cell_type": "code",
   "execution_count": 2,
   "metadata": {
    "collapsed": true,
    "pycharm": {
     "name": "#%%\n"
    }
   },
   "outputs": [],
   "source": [
    "\n",
    "# 将txt文件中的信息保存为\n",
    "import numpy as np\n",
    "import torch\n",
    "import SimpleITK as sitk\n",
    "#\n",
    "'''\n",
    "将ITK世界坐标转换为影像坐标。此影像坐标指：ITK Snap中显示的起始点为1的坐标\n",
    "args:\n",
    "    input: itk 世界坐标\n",
    "    origin itk原点\n",
    "    spacing itk分辨率\n",
    "'''\n",
    "def single_point_itk_to_pixel(itk, origin, spacing):\n",
    "    x = (itk[0] -origin[0])/spacing[0]+1\n",
    "    y = (itk[1] -origin[1])/spacing[1]+1\n",
    "    z = (itk[2] -origin[2])/spacing[2]+1\n",
    "    return [x,y,z]\n",
    "def sequence_points_itk_to_pixel(itk, origin, spacing):\n",
    "    itk[:,0] = (itk[:,0] -origin[0])/spacing[0]+1\n",
    "    itk[:,1] = (itk[:,1] -origin[1])/spacing[1]+1\n",
    "    itk[:,2] = (itk[:,2] -origin[2])/spacing[2]+1\n",
    "    return itk\n",
    "'''\n",
    "通过SimpleITK读取图像的itk原点、itk分辨率\n",
    "'''\n",
    "def get_spacing_origin(path):\n",
    "    img = sitk.ReadImage(path)\n",
    "    spacing = img.GetSpacing()\n",
    "    origin = img.GetOrigin()\n",
    "    return spacing, origin"
   ]
  },
  {
   "cell_type": "code",
   "execution_count": 3,
   "metadata": {
    "collapsed": false,
    "pycharm": {
     "name": "#%%\n"
    }
   },
   "outputs": [],
   "source": [
    "path = 'F:\\DataSet\\PKUH3\\\\2_Nii\\\\01\\\\0.nii'\n",
    "spacing, origin = get_spacing_origin(path)\n",
    "landmark_00_itk = np.genfromtxt('00.pts', dtype = np.float32) # change to 0-based indexing\n",
    "landmark_00_image = sequence_points_itk_to_pixel(landmark_00_itk, spacing, origin)-1\n",
    "\n",
    "landmarks  = {'00':landmark_00_image, '10':landmark_10_image} # 直到90\n",
    "torch.save(landmarks,f'case{case}.pt')"
   ]
  }
 ],
 "metadata": {
  "kernelspec": {
   "display_name": "Python 3",
   "language": "python",
   "name": "python3"
  },
  "language_info": {
   "codemirror_mode": {
    "name": "ipython",
    "version": 3
   },
   "file_extension": ".py",
   "mimetype": "text/x-python",
   "name": "python",
   "nbconvert_exporter": "python",
   "pygments_lexer": "ipython3",
   "version": "3.8.8"
  }
 },
 "nbformat": 4,
 "nbformat_minor": 0
}
