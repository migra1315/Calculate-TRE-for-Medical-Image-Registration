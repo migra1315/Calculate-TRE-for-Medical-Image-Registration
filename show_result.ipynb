{
 "cells": [
  {
   "cell_type": "markdown",
   "metadata": {},
   "source": [
    "# 图像显示相关操作"
   ]
  },
  {
   "cell_type": "code",
   "execution_count": null,
   "metadata": {},
   "outputs": [],
   "source": [
    "import gui\n",
    "import SimpleITK as sitk\n",
    "from skimage import io\n",
    "import torch\n",
    "import torch.nn.functional as F"
   ]
  },
  {
   "cell_type": "markdown",
   "metadata": {
    "collapsed": false,
    "pycharm": {
     "name": "#%%\n"
    }
   },
   "source": [
    "### 将分割标签叠加在图像上展示"
   ]
  },
  {
   "cell_type": "code",
   "execution_count": null,
   "metadata": {},
   "outputs": [],
   "source": [
    "img = sitk.ReadImage('G:\\RemoteSharedFolds\\DataBase\\Dirlab\\case1\\case1_T0.mhd')\n",
    "seg = sitk.ReadImage('G:\\RemoteSharedFolds\\DataBase\\Dirlab\\case1\\case1_T5.mhd')\n",
    "img = sitk.Cast(sitk.RescaleIntensity(img), sitk.sitkUInt8)\n",
    "overlay = sitk.LabelOverlay(img, seg)\n",
    "sitk.WriteImage(fileName='1.nii',image=overlay)"
   ]
  },
  {
   "cell_type": "markdown",
   "metadata": {
    "collapsed": false,
    "pycharm": {
     "name": "#%%\n"
    }
   },
   "source": [
    "### 绘制棋盘格"
   ]
  },
  {
   "cell_type": "code",
   "execution_count": 8,
   "metadata": {
    "collapsed": false,
    "pycharm": {
     "name": "#%%\n"
    }
   },
   "outputs": [],
   "source": [
    "img1 = sitk.ReadImage('fixed_best.nii')\n",
    "img2 = sitk.ReadImage('moving_best.nii')\n",
    "img3 = sitk.ReadImage('warp_best.nii')\n",
    "\n",
    "# 按照分辨率重采样\n",
    "img1 = torch.from_numpy(sitk.GetArrayFromImage(img1)).unsqueeze(0).unsqueeze(0)\n",
    "img1 = F.interpolate(img1,scale_factor=(2.5,1,1),mode = 'trilinear')\n",
    "img1 = img1.squeeze(0).squeeze(0).numpy()\n",
    "img1 = sitk.GetImageFromArray(img1)\n",
    "\n",
    "img2 = torch.from_numpy(sitk.GetArrayFromImage(img2)).unsqueeze(0).unsqueeze(0)\n",
    "img2 = F.interpolate(img2,scale_factor=(2.5,1,1),mode = 'trilinear')\n",
    "img2 = img2.squeeze(0).squeeze(0).numpy()\n",
    "img2 = sitk.GetImageFromArray(img2)\n",
    "\n",
    "img3 = torch.from_numpy(sitk.GetArrayFromImage(img3)).unsqueeze(0).unsqueeze(0)\n",
    "img3 = F.interpolate(img3,scale_factor=(2.5,1,1),mode = 'trilinear')\n",
    "img3 = img3.squeeze(0).squeeze(0).numpy()\n",
    "img3 = sitk.GetImageFromArray(img3)\n",
    "\n",
    "# 归一化至[0,255]\n",
    "img1_255 = sitk.Cast(sitk.IntensityWindowing(img1, windowMinimum=0, windowMaximum=0.38,\n",
    "                                             outputMinimum=0.0, outputMaximum=255.0), sitk.sitkUInt8)\n",
    "img2_255 = sitk.Cast(sitk.IntensityWindowing(img2, windowMinimum=0, windowMaximum=0.38,\n",
    "                                             outputMinimum=0.0, outputMaximum=255.0), sitk.sitkUInt8)\n",
    "img3_255 = sitk.Cast(sitk.IntensityWindowing(img3, windowMinimum=0, windowMaximum=0.38,\n",
    "                                             outputMinimum=0.0, outputMaximum=255.0), sitk.sitkUInt8)\n",
    "# 绘制\n",
    "gui.MultiImageDisplay(image_list = [sitk.CheckerBoard(img1_255, img2_255, [4,4,4]),\n",
    "                                    sitk.CheckerBoard(img1_255, img3_255, [4,4,4])],\n",
    "                      title_list= ['CheckerBoard1', 'CheckerBoard2'],\n",
    "                      figure_size=(90,30));"
   ]
  },
  {
   "cell_type": "markdown",
   "metadata": {
    "collapsed": false,
    "pycharm": {
     "name": "#%%\n"
    }
   },
   "source": [
    "### 绘制重合图像"
   ]
  },
  {
   "cell_type": "markdown",
   "metadata": {},
   "source": [
    "zeros = sitk.Image(img1_255.GetSize(), img1_255.GetPixelID())\n",
    "zeros.CopyInformation(img1_255)\n",
    "\n",
    "gui.MultiImageDisplay(image_list = [sitk.Cast(sitk.Compose(img1_255, img2_255, zeros), sitk.sitkVectorUInt8),\n",
    "                                    sitk.Cast(sitk.Compose(img1_255, img2_255, img1_255), sitk.sitkVectorUInt8),\n",
    "                                   sitk.Cast(sitk.Compose(img1_255, 0.5*img1_255+0.5*img2_255, img2_255), sitk.sitkVectorUInt8)],\n",
    "                      title_list= ['avoid red-green', 'use magenta-green', 'use orange-blue'],\n",
    "                      figure_size=(90,30));"
   ]
  },
  {
   "cell_type": "code",
   "execution_count": null,
   "metadata": {},
   "outputs": [],
   "source": [
    "i = sitk.Cast(sitk.Compose(img1_255, img2_255, img1_255), sitk.sitkVectorUInt8)\n",
    "a = sitk.GetArrayFromImage(i)\n",
    "io.imsave('1.png',a[:,80,:])"
   ]
  }
 ],
 "metadata": {
  "kernelspec": {
   "display_name": "Python 3",
   "language": "python",
   "name": "python3"
  },
  "language_info": {
   "codemirror_mode": {
    "name": "ipython",
    "version": 2
   },
   "file_extension": ".py",
   "mimetype": "text/x-python",
   "name": "python",
   "nbconvert_exporter": "python",
   "pygments_lexer": "ipython2",
   "version": "2.7.6"
  }
 },
 "nbformat": 4,
 "nbformat_minor": 0
}
